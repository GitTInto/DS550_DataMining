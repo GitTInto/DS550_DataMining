{
 "cells": [
  {
   "cell_type": "markdown",
   "metadata": {},
   "source": [
    "# Exercise:4.2 :       Sentiment analysis of text comments\n"
   ]
  },
  {
   "cell_type": "code",
   "execution_count": 148,
   "metadata": {
    "collapsed": true
   },
   "outputs": [],
   "source": [
    "# Load library\n",
    "import pandas as pd\n",
    "from vaderSentiment.vaderSentiment import SentimentIntensityAnalyzer\n"
   ]
  },
  {
   "cell_type": "markdown",
   "metadata": {
    "pycharm": {
     "name": "#%% md\n"
    }
   },
   "source": [
    "## 1. Load the data file DailyComments.csv from the Week 4 Data Files into a data frame."
   ]
  },
  {
   "cell_type": "code",
   "execution_count": 149,
   "outputs": [
    {
     "data": {
      "text/plain": "  Day of Week                                        comments\n0      Monday                             Hello, how are you?\n1     Tuesday                            Today is a good day!\n2   Wednesday  It's my birthday so it's a really special day!\n3    Thursday       Today is neither a good day or a bad day!\n4      Friday                           I'm having a bad day.\n5    Saturday       There' s nothing special happening today.\n6      Sunday                      Today is a SUPER good day!",
      "text/html": "<div>\n<style scoped>\n    .dataframe tbody tr th:only-of-type {\n        vertical-align: middle;\n    }\n\n    .dataframe tbody tr th {\n        vertical-align: top;\n    }\n\n    .dataframe thead th {\n        text-align: right;\n    }\n</style>\n<table border=\"1\" class=\"dataframe\">\n  <thead>\n    <tr style=\"text-align: right;\">\n      <th></th>\n      <th>Day of Week</th>\n      <th>comments</th>\n    </tr>\n  </thead>\n  <tbody>\n    <tr>\n      <th>0</th>\n      <td>Monday</td>\n      <td>Hello, how are you?</td>\n    </tr>\n    <tr>\n      <th>1</th>\n      <td>Tuesday</td>\n      <td>Today is a good day!</td>\n    </tr>\n    <tr>\n      <th>2</th>\n      <td>Wednesday</td>\n      <td>It's my birthday so it's a really special day!</td>\n    </tr>\n    <tr>\n      <th>3</th>\n      <td>Thursday</td>\n      <td>Today is neither a good day or a bad day!</td>\n    </tr>\n    <tr>\n      <th>4</th>\n      <td>Friday</td>\n      <td>I'm having a bad day.</td>\n    </tr>\n    <tr>\n      <th>5</th>\n      <td>Saturday</td>\n      <td>There' s nothing special happening today.</td>\n    </tr>\n    <tr>\n      <th>6</th>\n      <td>Sunday</td>\n      <td>Today is a SUPER good day!</td>\n    </tr>\n  </tbody>\n</table>\n</div>"
     },
     "execution_count": 149,
     "metadata": {},
     "output_type": "execute_result"
    }
   ],
   "source": [
    "# Load the data file DailyComments.csv from the Week 4 Data Files into a data frame.\n",
    "\n",
    "Comments = './week-4/DailyComments.csv'\n",
    "corpus = pd.read_csv(Comments)\n",
    "corpus\n"
   ],
   "metadata": {
    "collapsed": false,
    "pycharm": {
     "name": "#%%\n"
    }
   }
  },
  {
   "cell_type": "markdown",
   "metadata": {
    "pycharm": {
     "name": "#%% md\n"
    }
   },
   "source": [
    "## 2. Identify a scheme to categorize each comment as positive or negative. You can devise your own scheme or find a commonly used scheme to perform this sentiment analysis. However you decide to do this, make sure to explain the scheme you decide to use.\n",
    "\n",
    "### Here we are using VADER (Valence Aware Dictionary and sEntiment Reasoner) which is a lexicon and rule-based sentiment analysis tool.\n",
    "\n",
    "### VADER uses a combination of A sentiment lexicon is a list of lexical features (e.g., words) which are generally labelled according to their semantic orientation as either positive or negative.\n",
    "\n",
    "### We will use the polarity_scores() method to obtain the polarity indices for the given sentence.\n",
    "\n",
    "### The Positive, Negative and Neutral scores represent the proportion of text that falls in these categories.\n",
    "### The Compound score is a metric that calculates the sum of all the lexicon ratings which have been normalized between -1(most extreme negative) and +1 (most extreme positive).\n",
    "\n",
    "### Below we are defining a function which takes a sentence as an input and returns a data frame with the positive, negative, neutral, compound values and the overall sentiment of the sentence.\n",
    "\n",
    "### Using value of compound we are setting the value of sentiment using below rule\n",
    "#### 1. Positive sentiment -> compound score >= 0.05\n",
    "#### 2. Neutral sentiment -> (compound score > - 0.05) and (compound score <  0.05)\n",
    "#### 3. Negative sentiment -> compound score <= - 0.05"
   ]
  },
  {
   "cell_type": "code",
   "execution_count": 150,
   "metadata": {
    "pycharm": {
     "name": "#%%\n"
    }
   },
   "outputs": [],
   "source": [
    "analyser = SentimentIntensityAnalyzer()\n",
    "\n",
    "\n",
    "def sentiment_analyzer_scores(sentence):\n",
    "    score = analyser.polarity_scores(sentence)\n",
    "    # using value of compound to set the value of the sentiment using below rule\n",
    "        # 1. Positive sentiment -> compound score > 0.05\n",
    "        # 2. Neutral sentiment -> (compound score > - 0.05) and (compound score <  0.05)\n",
    "        # 3. Negative sentiment -> compound score < - 0.05\n",
    "    compound = score.get('compound')\n",
    "    if compound >= 0.05:\n",
    "        v_sentiment = \"Positive\"\n",
    "    elif compound <= -0.05:\n",
    "        v_sentiment = \"Negative\"\n",
    "    else: v_sentiment = \"Neutral\"\n",
    "\n",
    "    # appending the sentiment value:key pair to the score dictionary\n",
    "    score.update(sentiment = v_sentiment)\n",
    "\n",
    "    # converting the dictionary to data frame\n",
    "    df= pd.DataFrame([score])\n",
    "\n",
    "    # returning the data frame\n",
    "    return df\n"
   ]
  },
  {
   "cell_type": "markdown",
   "metadata": {
    "pycharm": {
     "name": "#%% md\n"
    }
   },
   "source": [
    "## 3. Implement your sentiment analysis with code and display the results. Note: DailyComments.csv is a purposely small file, so you will be able to clearly see why the results are what they are.\n",
    "\n",
    "### Calling the sentiment_analyzer_scores function iteratively for every comment in the corpus\n",
    "### Concat the scores into one data frame."
   ]
  },
  {
   "cell_type": "code",
   "execution_count": 151,
   "outputs": [],
   "source": [
    "df2 = pd.DataFrame()\n",
    "for comment in corpus['comments']:\n",
    "    sentiment_analyzer_scores(comment)\n",
    "\n",
    "    # getting the score for each row/comment in the corpus\n",
    "    df1 = sentiment_analyzer_scores(comment)\n",
    "\n",
    "    # combining all the individual row scores one below the other(axis = 0)\n",
    "    # if we dont give ignore_index=True, the default is false and all the index of df2 will be 0.\n",
    "    df2 = pd.concat([df2,df1], axis=0,ignore_index=True)"
   ],
   "metadata": {
    "collapsed": false,
    "pycharm": {
     "name": "#%%\n"
    }
   }
  },
  {
   "cell_type": "markdown",
   "source": [
    "### Concat scores data frame and corpus data frame."
   ],
   "metadata": {
    "collapsed": false
   }
  },
  {
   "cell_type": "code",
   "execution_count": 152,
   "outputs": [
    {
     "data": {
      "text/plain": "  Day of Week                                        comments    neg    neu  \\\n0      Monday                             Hello, how are you?  0.000  1.000   \n1     Tuesday                            Today is a good day!  0.000  0.556   \n2   Wednesday  It's my birthday so it's a really special day!  0.000  0.709   \n3    Thursday       Today is neither a good day or a bad day!  0.437  0.563   \n4      Friday                           I'm having a bad day.  0.467  0.533   \n5    Saturday       There' s nothing special happening today.  0.311  0.689   \n6      Sunday                      Today is a SUPER good day!  0.000  0.338   \n\n     pos  compound sentiment  \n0  0.000    0.0000   Neutral  \n1  0.444    0.4926  Positive  \n2  0.291    0.5081  Positive  \n3  0.000   -0.7350  Negative  \n4  0.000   -0.5423  Negative  \n5  0.000   -0.3089  Negative  \n6  0.662    0.8327  Positive  ",
      "text/html": "<div>\n<style scoped>\n    .dataframe tbody tr th:only-of-type {\n        vertical-align: middle;\n    }\n\n    .dataframe tbody tr th {\n        vertical-align: top;\n    }\n\n    .dataframe thead th {\n        text-align: right;\n    }\n</style>\n<table border=\"1\" class=\"dataframe\">\n  <thead>\n    <tr style=\"text-align: right;\">\n      <th></th>\n      <th>Day of Week</th>\n      <th>comments</th>\n      <th>neg</th>\n      <th>neu</th>\n      <th>pos</th>\n      <th>compound</th>\n      <th>sentiment</th>\n    </tr>\n  </thead>\n  <tbody>\n    <tr>\n      <th>0</th>\n      <td>Monday</td>\n      <td>Hello, how are you?</td>\n      <td>0.000</td>\n      <td>1.000</td>\n      <td>0.000</td>\n      <td>0.0000</td>\n      <td>Neutral</td>\n    </tr>\n    <tr>\n      <th>1</th>\n      <td>Tuesday</td>\n      <td>Today is a good day!</td>\n      <td>0.000</td>\n      <td>0.556</td>\n      <td>0.444</td>\n      <td>0.4926</td>\n      <td>Positive</td>\n    </tr>\n    <tr>\n      <th>2</th>\n      <td>Wednesday</td>\n      <td>It's my birthday so it's a really special day!</td>\n      <td>0.000</td>\n      <td>0.709</td>\n      <td>0.291</td>\n      <td>0.5081</td>\n      <td>Positive</td>\n    </tr>\n    <tr>\n      <th>3</th>\n      <td>Thursday</td>\n      <td>Today is neither a good day or a bad day!</td>\n      <td>0.437</td>\n      <td>0.563</td>\n      <td>0.000</td>\n      <td>-0.7350</td>\n      <td>Negative</td>\n    </tr>\n    <tr>\n      <th>4</th>\n      <td>Friday</td>\n      <td>I'm having a bad day.</td>\n      <td>0.467</td>\n      <td>0.533</td>\n      <td>0.000</td>\n      <td>-0.5423</td>\n      <td>Negative</td>\n    </tr>\n    <tr>\n      <th>5</th>\n      <td>Saturday</td>\n      <td>There' s nothing special happening today.</td>\n      <td>0.311</td>\n      <td>0.689</td>\n      <td>0.000</td>\n      <td>-0.3089</td>\n      <td>Negative</td>\n    </tr>\n    <tr>\n      <th>6</th>\n      <td>Sunday</td>\n      <td>Today is a SUPER good day!</td>\n      <td>0.000</td>\n      <td>0.338</td>\n      <td>0.662</td>\n      <td>0.8327</td>\n      <td>Positive</td>\n    </tr>\n  </tbody>\n</table>\n</div>"
     },
     "execution_count": 152,
     "metadata": {},
     "output_type": "execute_result"
    }
   ],
   "source": [
    "# concat corpus and score data frame , by axis =1 , to view the results side by side of the comments.\n",
    "results2 = pd.concat([corpus,df2],axis =1, sort = False)\n",
    "\n",
    "results2"
   ],
   "metadata": {
    "collapsed": false,
    "pycharm": {
     "name": "#%%\n"
    }
   }
  },
  {
   "cell_type": "markdown",
   "metadata": {
    "pycharm": {
     "name": "#%% md\n"
    }
   },
   "source": [
    "### As we can see the final result has the sentiment displayed against each of the rows in the corpus.\n",
    "\n",
    "\n"
   ]
  }
 ],
 "metadata": {
  "kernelspec": {
   "display_name": "Python 3",
   "language": "python",
   "name": "python3"
  },
  "language_info": {
   "codemirror_mode": {
    "name": "ipython",
    "version": 3
   },
   "file_extension": ".py",
   "mimetype": "text/x-python",
   "name": "python",
   "nbconvert_exporter": "python",
   "pygments_lexer": "ipython3",
   "version": "3.7.2"
  }
 },
 "nbformat": 4,
 "nbformat_minor": 1
}
{
 "cells": [
  {
   "cell_type": "markdown",
   "metadata": {
    "collapsed": true,
    "pycharm": {
     "name": "#%% md\n"
    }
   },
   "source": [
    "## Loading a Sample Dataset\n",
    "\n",
    "scikit-learn comes with a number of popular datasets for you to use:\n",
    "\n",
    "load_boston\n",
    "Contains 503 observations on Boston housing prices. It is a good dataset for exploring regression algorithms.\n",
    "\n",
    "load_iris\n",
    "Contains 150 observations on the measurements of Iris flowers. It is a good dataset for exploring classification algorithms.\n",
    "\n",
    "load_digits\n",
    "Contains 1,797 observations from images of handwritten digits. It is a good dataset for teaching image classification."
   ]
  },
  {
   "cell_type": "code",
   "execution_count": 249,
   "outputs": [
    {
     "data": {
      "text/plain": "array([ 0.,  0.,  5., 13.,  9.,  1.,  0.,  0.,  0.,  0., 13., 15., 10.,\n       15.,  5.,  0.,  0.,  3., 15.,  2.,  0., 11.,  8.,  0.,  0.,  4.,\n       12.,  0.,  0.,  8.,  8.,  0.,  0.,  5.,  8.,  0.,  0.,  9.,  8.,\n        0.,  0.,  4., 11.,  0.,  1., 12.,  7.,  0.,  0.,  2., 14.,  5.,\n       10., 12.,  0.,  0.,  0.,  0.,  6., 13., 10.,  0.,  0.,  0.])"
     },
     "execution_count": 249,
     "metadata": {},
     "output_type": "execute_result"
    }
   ],
   "source": [
    "# Load scikit-learn's datasets\n",
    "from sklearn import datasets\n",
    "\n",
    "# Load digits dataset\n",
    "digits = datasets.load_digits()\n",
    "\n",
    "# Create features matrix\n",
    "features = digits.data\n",
    "\n",
    "# Create target vector\n",
    "target = digits.target\n",
    "\n",
    "# View first observation\n",
    "features[0]"
   ],
   "metadata": {
    "collapsed": false,
    "pycharm": {
     "name": "#%%\n"
    }
   }
  },
  {
   "cell_type": "markdown",
   "source": [
    "## Creating a Simulated Dataset"
   ],
   "metadata": {
    "collapsed": false,
    "pycharm": {
     "name": "#%% md\n"
    }
   }
  },
  {
   "cell_type": "code",
   "execution_count": 250,
   "outputs": [
    {
     "name": "stdout",
     "output_type": "stream",
     "text": [
      "Feature Matrix\n",
      " [[ 1.29322588 -0.61736206 -0.11044703]\n",
      " [-2.793085    0.36633201  1.93752881]\n",
      " [ 0.80186103 -0.18656977  0.0465673 ]]\n",
      "Target Vector\n",
      " [-10.37865986  25.5124503   19.67705609]\n"
     ]
    }
   ],
   "source": [
    "# Load library\n",
    "from sklearn.datasets import make_regression\n",
    "\n",
    "# Generate features matrix, target vector, and the true coefficients\n",
    "features, target, coefficients = make_regression(n_samples = 100,\n",
    "                                                 n_features = 3,\n",
    "                                                 n_informative = 3,\n",
    "                                                 n_targets = 1,\n",
    "                                                 noise = 0.0,\n",
    "                                                 coef = True,\n",
    "                                                 random_state = 1)\n",
    "\n",
    "# View feature matrix and target vector\n",
    "print('Feature Matrix\\n', features[:3])\n",
    "print('Target Vector\\n', target[:3])"
   ],
   "metadata": {
    "collapsed": false,
    "pycharm": {
     "name": "#%%\n"
    }
   }
  },
  {
   "cell_type": "code",
   "execution_count": 251,
   "outputs": [
    {
     "name": "stdout",
     "output_type": "stream",
     "text": [
      "Feature Matrix\n",
      " [[ 1.06354768 -1.42632219  1.02163151]\n",
      " [ 0.23156977  1.49535261  0.33251578]\n",
      " [ 0.15972951  0.83533515 -0.40869554]]\n",
      "Target Vector\n",
      " [1 0 0]\n"
     ]
    }
   ],
   "source": [
    "# Load library\n",
    "from sklearn.datasets import make_classification\n",
    "\n",
    "# Generate features matrix and target vector\n",
    "features, target = make_classification(n_samples = 100,\n",
    "                                       n_features = 3,\n",
    "                                       n_informative = 3,\n",
    "                                       n_redundant = 0,\n",
    "                                       n_classes = 2,\n",
    "                                       weights = [.25, .75],\n",
    "                                       random_state = 1)\n",
    "\n",
    "# View feature matrix and target vector\n",
    "print('Feature Matrix\\n', features[:3])\n",
    "print('Target Vector\\n', target[:3])\n"
   ],
   "metadata": {
    "collapsed": false,
    "pycharm": {
     "name": "#%%\n"
    }
   }
  },
  {
   "cell_type": "code",
   "execution_count": 252,
   "outputs": [
    {
     "name": "stdout",
     "output_type": "stream",
     "text": [
      "Feature Matrix\n",
      " [[ -1.22685609   3.25572052]\n",
      " [ -9.57463218  -4.38310652]\n",
      " [-10.71976941  -4.20558148]]\n",
      "Target Vector\n",
      " [0 1 1]\n"
     ]
    }
   ],
   "source": [
    "# Load library\n",
    "from sklearn.datasets import make_blobs\n",
    "\n",
    "# Generate feature matrix and target vector\n",
    "features, target = make_blobs(n_samples = 100,\n",
    "                              n_features = 2,\n",
    "                              centers = 3,\n",
    "                              cluster_std = 0.5,\n",
    "                              shuffle = True,\n",
    "                              random_state = 1)\n",
    "\n",
    "# View feature matrix and target vector\n",
    "print('Feature Matrix\\n', features[:3])\n",
    "print('Target Vector\\n', target[:3])\n",
    "\n"
   ],
   "metadata": {
    "collapsed": false,
    "pycharm": {
     "name": "#%%\n"
    }
   }
  },
  {
   "cell_type": "markdown",
   "source": [
    "## Loading CSV Files"
   ],
   "metadata": {
    "collapsed": false,
    "pycharm": {
     "name": "#%% md\n"
    }
   }
  },
  {
   "cell_type": "code",
   "execution_count": 253,
   "outputs": [
    {
     "data": {
      "text/plain": "                                              PROFILE\n0   WARNING: The PROFILE query requires plan compi...\n1   Run PROFILE query again to get accurate execut...\n2   Gather partitions:single alias:remote_1 actual...\n3   Project [garEvent_1.uUId, garEvent_1.dtlBusDt,...\n4         Top limit:[?] actual_rows: 1 exec_time: 0ms\n5   Filter [garEvent_1.uUId = $0] actual_rows: 1 e...\n6                         :subselect $0 correlated:no\n7           Project [remote_0.uUid] actual_rows: 1...\n8           Top limit:[?] actual_rows: 1 exec_time...\n9           Gather partitions:all alias:remote_0 a...\n10          Project [garEvent.uUId AS uUid] actual...\n11          Top limit:[?] actual_rows: 2 exec_time...\n12          ColumnStoreScan fdm_r0.garEvent, KEY g...\n13           [actual_rows: 8,192 | max:4,096 at pa...\n14           [exec_time: 1,614ms | max:1,614 at pa...\n15  ColumnStoreScan fdm_r0.garEvent AS garEvent_1,...",
      "text/html": "<div>\n<style scoped>\n    .dataframe tbody tr th:only-of-type {\n        vertical-align: middle;\n    }\n\n    .dataframe tbody tr th {\n        vertical-align: top;\n    }\n\n    .dataframe thead th {\n        text-align: right;\n    }\n</style>\n<table border=\"1\" class=\"dataframe\">\n  <thead>\n    <tr style=\"text-align: right;\">\n      <th></th>\n      <th>PROFILE</th>\n    </tr>\n  </thead>\n  <tbody>\n    <tr>\n      <th>0</th>\n      <td>WARNING: The PROFILE query requires plan compi...</td>\n    </tr>\n    <tr>\n      <th>1</th>\n      <td>Run PROFILE query again to get accurate execut...</td>\n    </tr>\n    <tr>\n      <th>2</th>\n      <td>Gather partitions:single alias:remote_1 actual...</td>\n    </tr>\n    <tr>\n      <th>3</th>\n      <td>Project [garEvent_1.uUId, garEvent_1.dtlBusDt,...</td>\n    </tr>\n    <tr>\n      <th>4</th>\n      <td>Top limit:[?] actual_rows: 1 exec_time: 0ms</td>\n    </tr>\n    <tr>\n      <th>5</th>\n      <td>Filter [garEvent_1.uUId = $0] actual_rows: 1 e...</td>\n    </tr>\n    <tr>\n      <th>6</th>\n      <td>:subselect $0 correlated:no</td>\n    </tr>\n    <tr>\n      <th>7</th>\n      <td>Project [remote_0.uUid] actual_rows: 1...</td>\n    </tr>\n    <tr>\n      <th>8</th>\n      <td>Top limit:[?] actual_rows: 1 exec_time...</td>\n    </tr>\n    <tr>\n      <th>9</th>\n      <td>Gather partitions:all alias:remote_0 a...</td>\n    </tr>\n    <tr>\n      <th>10</th>\n      <td>Project [garEvent.uUId AS uUid] actual...</td>\n    </tr>\n    <tr>\n      <th>11</th>\n      <td>Top limit:[?] actual_rows: 2 exec_time...</td>\n    </tr>\n    <tr>\n      <th>12</th>\n      <td>ColumnStoreScan fdm_r0.garEvent, KEY g...</td>\n    </tr>\n    <tr>\n      <th>13</th>\n      <td>[actual_rows: 8,192 | max:4,096 at pa...</td>\n    </tr>\n    <tr>\n      <th>14</th>\n      <td>[exec_time: 1,614ms | max:1,614 at pa...</td>\n    </tr>\n    <tr>\n      <th>15</th>\n      <td>ColumnStoreScan fdm_r0.garEvent AS garEvent_1,...</td>\n    </tr>\n  </tbody>\n</table>\n</div>"
     },
     "execution_count": 253,
     "metadata": {},
     "output_type": "execute_result"
    }
   ],
   "source": [
    "# Load library\n",
    "import pandas as pd\n",
    "\n",
    "# Create URL\n",
    "#url = 'https://raw.githubusercontent.com/chrisalbon/sim_data/master/data.csv'\n",
    "url = '/Users/tthekkum/Downloads/results-2020-09-04T092001.csv'\n",
    "\n",
    "# If a header row does not exist, we set header=None.\n",
    "# header = None\n",
    "\n",
    "# Load dataset\n",
    "dataframe = pd.read_csv(url)\n",
    "\n",
    "# View first two rows\n",
    "#dataframe.head(2)\n",
    "\n",
    "# To view the full data frame\n",
    "dataframe\n",
    "\n"
   ],
   "metadata": {
    "collapsed": false,
    "pycharm": {
     "name": "#%%\n"
    }
   }
  },
  {
   "cell_type": "markdown",
   "source": [
    "## Loading Excel Files"
   ],
   "metadata": {
    "collapsed": false
   }
  },
  {
   "cell_type": "code",
   "execution_count": 254,
   "outputs": [
    {
     "data": {
      "text/plain": "  Application Name     AIM ID      DBMS  \\\n0        TC Portal  600000437  Postgres   \n1             olaf  200000190    Oracle   \n2              NaN        NaN       NaN   \n\n                                      SP Repository  Template  \n0  https://stash.aexp.com/stash/projects/AIM60000...      NaN  \n1  https://stash.aexp.com/stash/projects/AIM20000...      NaN  \n2                                                NaN      NaN  ",
      "text/html": "<div>\n<style scoped>\n    .dataframe tbody tr th:only-of-type {\n        vertical-align: middle;\n    }\n\n    .dataframe tbody tr th {\n        vertical-align: top;\n    }\n\n    .dataframe thead th {\n        text-align: right;\n    }\n</style>\n<table border=\"1\" class=\"dataframe\">\n  <thead>\n    <tr style=\"text-align: right;\">\n      <th></th>\n      <th>Application Name</th>\n      <th>AIM ID</th>\n      <th>DBMS</th>\n      <th>SP Repository</th>\n      <th>Template</th>\n    </tr>\n  </thead>\n  <tbody>\n    <tr>\n      <th>0</th>\n      <td>TC Portal</td>\n      <td>600000437</td>\n      <td>Postgres</td>\n      <td>https://stash.aexp.com/stash/projects/AIM60000...</td>\n      <td>NaN</td>\n    </tr>\n    <tr>\n      <th>1</th>\n      <td>olaf</td>\n      <td>200000190</td>\n      <td>Oracle</td>\n      <td>https://stash.aexp.com/stash/projects/AIM20000...</td>\n      <td>NaN</td>\n    </tr>\n    <tr>\n      <th>2</th>\n      <td>NaN</td>\n      <td>NaN</td>\n      <td>NaN</td>\n      <td>NaN</td>\n      <td>NaN</td>\n    </tr>\n  </tbody>\n</table>\n</div>"
     },
     "execution_count": 254,
     "metadata": {},
     "output_type": "execute_result"
    }
   ],
   "source": [
    "# Create URL\n",
    "#url = 'https://raw.githubusercontent.com/chrisalbon/sim_data/master/data.xlsx'\n",
    "url = '/Users/tthekkum/Downloads/Application Inventory.xlsx'\n",
    "# Load data\n",
    "dataframe = pd.read_excel(url, sheet_name=0, header=0)\n",
    "\n",
    "# sheetname=[0,1,2, \"Monthly Sales\"] will return a dictionary\n",
    "# of pandas DataFrames containing the first, second,\n",
    "# and third sheets and the sheet named Monthly\n",
    "\n",
    "# View the first two rows\n",
    "dataframe.head(3)"
   ],
   "metadata": {
    "collapsed": false,
    "pycharm": {
     "name": "#%%\n"
    }
   }
  },
  {
   "cell_type": "markdown",
   "source": [
    "## Loading a JSON File"
   ],
   "metadata": {
    "collapsed": false,
    "pycharm": {
     "name": "#%% md\n"
    }
   }
  },
  {
   "cell_type": "code",
   "execution_count": 255,
   "outputs": [
    {
     "data": {
      "text/plain": "   integer            datetime  category\n0        5 2015-01-01 00:00:00         0\n1        5 2015-01-01 00:00:01         0",
      "text/html": "<div>\n<style scoped>\n    .dataframe tbody tr th:only-of-type {\n        vertical-align: middle;\n    }\n\n    .dataframe tbody tr th {\n        vertical-align: top;\n    }\n\n    .dataframe thead th {\n        text-align: right;\n    }\n</style>\n<table border=\"1\" class=\"dataframe\">\n  <thead>\n    <tr style=\"text-align: right;\">\n      <th></th>\n      <th>integer</th>\n      <th>datetime</th>\n      <th>category</th>\n    </tr>\n  </thead>\n  <tbody>\n    <tr>\n      <th>0</th>\n      <td>5</td>\n      <td>2015-01-01 00:00:00</td>\n      <td>0</td>\n    </tr>\n    <tr>\n      <th>1</th>\n      <td>5</td>\n      <td>2015-01-01 00:00:01</td>\n      <td>0</td>\n    </tr>\n  </tbody>\n</table>\n</div>"
     },
     "execution_count": 255,
     "metadata": {},
     "output_type": "execute_result"
    }
   ],
   "source": [
    "# Create URL\n",
    "#url = 'http://raw.githubusercontent.com/chrisalbon/sim_data/master/data.json'\n",
    "url = '/Users/tthekkum/Downloads/test.json'\n",
    "#url = '/Users/tthekkum/Downloads/plan-2020-09-04T091334.json'\n",
    "# Load data\n",
    "dataframe = pd.read_json(url, orient='columns')\n",
    "# t might take some experimenting to figure out which argument\n",
    "# (split, records, index, columns, and values) is the right one\n",
    "\n",
    "\n",
    "# View the first two rows\n",
    "dataframe.head(2)\n"
   ],
   "metadata": {
    "collapsed": false,
    "pycharm": {
     "name": "#%%\n"
    }
   }
  },
  {
   "cell_type": "markdown",
   "source": [
    "## Querying SQL Database"
   ],
   "metadata": {
    "collapsed": false
   }
  },
  {
   "cell_type": "code",
   "execution_count": 256,
   "outputs": [
    {
     "ename": "OperationalError",
     "evalue": "(sqlite3.OperationalError) unable to open database file\n(Background on this error at: http://sqlalche.me/e/13/e3q8)",
     "output_type": "error",
     "traceback": [
      "\u001B[0;31m---------------------------------------------------------------------------\u001B[0m",
      "\u001B[0;31mOperationalError\u001B[0m                          Traceback (most recent call last)",
      "\u001B[0;32m~/PycharmProjects/DS550/venv/lib/python3.7/site-packages/sqlalchemy/engine/base.py\u001B[0m in \u001B[0;36m_wrap_pool_connect\u001B[0;34m(self, fn, connection)\u001B[0m\n\u001B[1;32m   2337\u001B[0m         \u001B[0;32mtry\u001B[0m\u001B[0;34m:\u001B[0m\u001B[0;34m\u001B[0m\u001B[0;34m\u001B[0m\u001B[0m\n\u001B[0;32m-> 2338\u001B[0;31m             \u001B[0;32mreturn\u001B[0m \u001B[0mfn\u001B[0m\u001B[0;34m(\u001B[0m\u001B[0;34m)\u001B[0m\u001B[0;34m\u001B[0m\u001B[0;34m\u001B[0m\u001B[0m\n\u001B[0m\u001B[1;32m   2339\u001B[0m         \u001B[0;32mexcept\u001B[0m \u001B[0mdialect\u001B[0m\u001B[0;34m.\u001B[0m\u001B[0mdbapi\u001B[0m\u001B[0;34m.\u001B[0m\u001B[0mError\u001B[0m \u001B[0;32mas\u001B[0m \u001B[0me\u001B[0m\u001B[0;34m:\u001B[0m\u001B[0;34m\u001B[0m\u001B[0;34m\u001B[0m\u001B[0m\n",
      "\u001B[0;32m~/PycharmProjects/DS550/venv/lib/python3.7/site-packages/sqlalchemy/pool/base.py\u001B[0m in \u001B[0;36mconnect\u001B[0;34m(self)\u001B[0m\n\u001B[1;32m    363\u001B[0m         \u001B[0;32mif\u001B[0m \u001B[0;32mnot\u001B[0m \u001B[0mself\u001B[0m\u001B[0;34m.\u001B[0m\u001B[0m_use_threadlocal\u001B[0m\u001B[0;34m:\u001B[0m\u001B[0;34m\u001B[0m\u001B[0;34m\u001B[0m\u001B[0m\n\u001B[0;32m--> 364\u001B[0;31m             \u001B[0;32mreturn\u001B[0m \u001B[0m_ConnectionFairy\u001B[0m\u001B[0;34m.\u001B[0m\u001B[0m_checkout\u001B[0m\u001B[0;34m(\u001B[0m\u001B[0mself\u001B[0m\u001B[0;34m)\u001B[0m\u001B[0;34m\u001B[0m\u001B[0;34m\u001B[0m\u001B[0m\n\u001B[0m\u001B[1;32m    365\u001B[0m \u001B[0;34m\u001B[0m\u001B[0m\n",
      "\u001B[0;32m~/PycharmProjects/DS550/venv/lib/python3.7/site-packages/sqlalchemy/pool/base.py\u001B[0m in \u001B[0;36m_checkout\u001B[0;34m(cls, pool, threadconns, fairy)\u001B[0m\n\u001B[1;32m    777\u001B[0m         \u001B[0;32mif\u001B[0m \u001B[0;32mnot\u001B[0m \u001B[0mfairy\u001B[0m\u001B[0;34m:\u001B[0m\u001B[0;34m\u001B[0m\u001B[0;34m\u001B[0m\u001B[0m\n\u001B[0;32m--> 778\u001B[0;31m             \u001B[0mfairy\u001B[0m \u001B[0;34m=\u001B[0m \u001B[0m_ConnectionRecord\u001B[0m\u001B[0;34m.\u001B[0m\u001B[0mcheckout\u001B[0m\u001B[0;34m(\u001B[0m\u001B[0mpool\u001B[0m\u001B[0;34m)\u001B[0m\u001B[0;34m\u001B[0m\u001B[0;34m\u001B[0m\u001B[0m\n\u001B[0m\u001B[1;32m    779\u001B[0m \u001B[0;34m\u001B[0m\u001B[0m\n",
      "\u001B[0;32m~/PycharmProjects/DS550/venv/lib/python3.7/site-packages/sqlalchemy/pool/base.py\u001B[0m in \u001B[0;36mcheckout\u001B[0;34m(cls, pool)\u001B[0m\n\u001B[1;32m    494\u001B[0m     \u001B[0;32mdef\u001B[0m \u001B[0mcheckout\u001B[0m\u001B[0;34m(\u001B[0m\u001B[0mcls\u001B[0m\u001B[0;34m,\u001B[0m \u001B[0mpool\u001B[0m\u001B[0;34m)\u001B[0m\u001B[0;34m:\u001B[0m\u001B[0;34m\u001B[0m\u001B[0;34m\u001B[0m\u001B[0m\n\u001B[0;32m--> 495\u001B[0;31m         \u001B[0mrec\u001B[0m \u001B[0;34m=\u001B[0m \u001B[0mpool\u001B[0m\u001B[0;34m.\u001B[0m\u001B[0m_do_get\u001B[0m\u001B[0;34m(\u001B[0m\u001B[0;34m)\u001B[0m\u001B[0;34m\u001B[0m\u001B[0;34m\u001B[0m\u001B[0m\n\u001B[0m\u001B[1;32m    496\u001B[0m         \u001B[0;32mtry\u001B[0m\u001B[0;34m:\u001B[0m\u001B[0;34m\u001B[0m\u001B[0;34m\u001B[0m\u001B[0m\n",
      "\u001B[0;32m~/PycharmProjects/DS550/venv/lib/python3.7/site-packages/sqlalchemy/pool/impl.py\u001B[0m in \u001B[0;36m_do_get\u001B[0;34m(self)\u001B[0m\n\u001B[1;32m    238\u001B[0m     \u001B[0;32mdef\u001B[0m \u001B[0m_do_get\u001B[0m\u001B[0;34m(\u001B[0m\u001B[0mself\u001B[0m\u001B[0;34m)\u001B[0m\u001B[0;34m:\u001B[0m\u001B[0;34m\u001B[0m\u001B[0;34m\u001B[0m\u001B[0m\n\u001B[0;32m--> 239\u001B[0;31m         \u001B[0;32mreturn\u001B[0m \u001B[0mself\u001B[0m\u001B[0;34m.\u001B[0m\u001B[0m_create_connection\u001B[0m\u001B[0;34m(\u001B[0m\u001B[0;34m)\u001B[0m\u001B[0;34m\u001B[0m\u001B[0;34m\u001B[0m\u001B[0m\n\u001B[0m\u001B[1;32m    240\u001B[0m \u001B[0;34m\u001B[0m\u001B[0m\n",
      "\u001B[0;32m~/PycharmProjects/DS550/venv/lib/python3.7/site-packages/sqlalchemy/pool/base.py\u001B[0m in \u001B[0;36m_create_connection\u001B[0;34m(self)\u001B[0m\n\u001B[1;32m    308\u001B[0m \u001B[0;34m\u001B[0m\u001B[0m\n\u001B[0;32m--> 309\u001B[0;31m         \u001B[0;32mreturn\u001B[0m \u001B[0m_ConnectionRecord\u001B[0m\u001B[0;34m(\u001B[0m\u001B[0mself\u001B[0m\u001B[0;34m)\u001B[0m\u001B[0;34m\u001B[0m\u001B[0;34m\u001B[0m\u001B[0m\n\u001B[0m\u001B[1;32m    310\u001B[0m \u001B[0;34m\u001B[0m\u001B[0m\n",
      "\u001B[0;32m~/PycharmProjects/DS550/venv/lib/python3.7/site-packages/sqlalchemy/pool/base.py\u001B[0m in \u001B[0;36m__init__\u001B[0;34m(self, pool, connect)\u001B[0m\n\u001B[1;32m    439\u001B[0m         \u001B[0;32mif\u001B[0m \u001B[0mconnect\u001B[0m\u001B[0;34m:\u001B[0m\u001B[0;34m\u001B[0m\u001B[0;34m\u001B[0m\u001B[0m\n\u001B[0;32m--> 440\u001B[0;31m             \u001B[0mself\u001B[0m\u001B[0;34m.\u001B[0m\u001B[0m__connect\u001B[0m\u001B[0;34m(\u001B[0m\u001B[0mfirst_connect_check\u001B[0m\u001B[0;34m=\u001B[0m\u001B[0;32mTrue\u001B[0m\u001B[0;34m)\u001B[0m\u001B[0;34m\u001B[0m\u001B[0;34m\u001B[0m\u001B[0m\n\u001B[0m\u001B[1;32m    441\u001B[0m         \u001B[0mself\u001B[0m\u001B[0;34m.\u001B[0m\u001B[0mfinalize_callback\u001B[0m \u001B[0;34m=\u001B[0m \u001B[0mdeque\u001B[0m\u001B[0;34m(\u001B[0m\u001B[0;34m)\u001B[0m\u001B[0;34m\u001B[0m\u001B[0;34m\u001B[0m\u001B[0m\n",
      "\u001B[0;32m~/PycharmProjects/DS550/venv/lib/python3.7/site-packages/sqlalchemy/pool/base.py\u001B[0m in \u001B[0;36m__connect\u001B[0;34m(self, first_connect_check)\u001B[0m\n\u001B[1;32m    660\u001B[0m             \u001B[0;32mwith\u001B[0m \u001B[0mutil\u001B[0m\u001B[0;34m.\u001B[0m\u001B[0msafe_reraise\u001B[0m\u001B[0;34m(\u001B[0m\u001B[0;34m)\u001B[0m\u001B[0;34m:\u001B[0m\u001B[0;34m\u001B[0m\u001B[0;34m\u001B[0m\u001B[0m\n\u001B[0;32m--> 661\u001B[0;31m                 \u001B[0mpool\u001B[0m\u001B[0;34m.\u001B[0m\u001B[0mlogger\u001B[0m\u001B[0;34m.\u001B[0m\u001B[0mdebug\u001B[0m\u001B[0;34m(\u001B[0m\u001B[0;34m\"Error on connect(): %s\"\u001B[0m\u001B[0;34m,\u001B[0m \u001B[0me\u001B[0m\u001B[0;34m)\u001B[0m\u001B[0;34m\u001B[0m\u001B[0;34m\u001B[0m\u001B[0m\n\u001B[0m\u001B[1;32m    662\u001B[0m         \u001B[0;32melse\u001B[0m\u001B[0;34m:\u001B[0m\u001B[0;34m\u001B[0m\u001B[0;34m\u001B[0m\u001B[0m\n",
      "\u001B[0;32m~/PycharmProjects/DS550/venv/lib/python3.7/site-packages/sqlalchemy/util/langhelpers.py\u001B[0m in \u001B[0;36m__exit__\u001B[0;34m(self, type_, value, traceback)\u001B[0m\n\u001B[1;32m     68\u001B[0m                 compat.raise_(\n\u001B[0;32m---> 69\u001B[0;31m                     \u001B[0mexc_value\u001B[0m\u001B[0;34m,\u001B[0m \u001B[0mwith_traceback\u001B[0m\u001B[0;34m=\u001B[0m\u001B[0mexc_tb\u001B[0m\u001B[0;34m,\u001B[0m\u001B[0;34m\u001B[0m\u001B[0;34m\u001B[0m\u001B[0m\n\u001B[0m\u001B[1;32m     70\u001B[0m                 )\n",
      "\u001B[0;32m~/PycharmProjects/DS550/venv/lib/python3.7/site-packages/sqlalchemy/util/compat.py\u001B[0m in \u001B[0;36mraise_\u001B[0;34m(***failed resolving arguments***)\u001B[0m\n\u001B[1;32m    181\u001B[0m         \u001B[0;32mtry\u001B[0m\u001B[0;34m:\u001B[0m\u001B[0;34m\u001B[0m\u001B[0;34m\u001B[0m\u001B[0m\n\u001B[0;32m--> 182\u001B[0;31m             \u001B[0;32mraise\u001B[0m \u001B[0mexception\u001B[0m\u001B[0;34m\u001B[0m\u001B[0;34m\u001B[0m\u001B[0m\n\u001B[0m\u001B[1;32m    183\u001B[0m         \u001B[0;32mfinally\u001B[0m\u001B[0;34m:\u001B[0m\u001B[0;34m\u001B[0m\u001B[0;34m\u001B[0m\u001B[0m\n",
      "\u001B[0;32m~/PycharmProjects/DS550/venv/lib/python3.7/site-packages/sqlalchemy/pool/base.py\u001B[0m in \u001B[0;36m__connect\u001B[0;34m(self, first_connect_check)\u001B[0m\n\u001B[1;32m    655\u001B[0m             \u001B[0mself\u001B[0m\u001B[0;34m.\u001B[0m\u001B[0mstarttime\u001B[0m \u001B[0;34m=\u001B[0m \u001B[0mtime\u001B[0m\u001B[0;34m.\u001B[0m\u001B[0mtime\u001B[0m\u001B[0;34m(\u001B[0m\u001B[0;34m)\u001B[0m\u001B[0;34m\u001B[0m\u001B[0;34m\u001B[0m\u001B[0m\n\u001B[0;32m--> 656\u001B[0;31m             \u001B[0mconnection\u001B[0m \u001B[0;34m=\u001B[0m \u001B[0mpool\u001B[0m\u001B[0;34m.\u001B[0m\u001B[0m_invoke_creator\u001B[0m\u001B[0;34m(\u001B[0m\u001B[0mself\u001B[0m\u001B[0;34m)\u001B[0m\u001B[0;34m\u001B[0m\u001B[0;34m\u001B[0m\u001B[0m\n\u001B[0m\u001B[1;32m    657\u001B[0m             \u001B[0mpool\u001B[0m\u001B[0;34m.\u001B[0m\u001B[0mlogger\u001B[0m\u001B[0;34m.\u001B[0m\u001B[0mdebug\u001B[0m\u001B[0;34m(\u001B[0m\u001B[0;34m\"Created new connection %r\"\u001B[0m\u001B[0;34m,\u001B[0m \u001B[0mconnection\u001B[0m\u001B[0;34m)\u001B[0m\u001B[0;34m\u001B[0m\u001B[0;34m\u001B[0m\u001B[0m\n",
      "\u001B[0;32m~/PycharmProjects/DS550/venv/lib/python3.7/site-packages/sqlalchemy/engine/strategies.py\u001B[0m in \u001B[0;36mconnect\u001B[0;34m(connection_record)\u001B[0m\n\u001B[1;32m    113\u001B[0m                             \u001B[0;32mreturn\u001B[0m \u001B[0mconnection\u001B[0m\u001B[0;34m\u001B[0m\u001B[0;34m\u001B[0m\u001B[0m\n\u001B[0;32m--> 114\u001B[0;31m                 \u001B[0;32mreturn\u001B[0m \u001B[0mdialect\u001B[0m\u001B[0;34m.\u001B[0m\u001B[0mconnect\u001B[0m\u001B[0;34m(\u001B[0m\u001B[0;34m*\u001B[0m\u001B[0mcargs\u001B[0m\u001B[0;34m,\u001B[0m \u001B[0;34m**\u001B[0m\u001B[0mcparams\u001B[0m\u001B[0;34m)\u001B[0m\u001B[0;34m\u001B[0m\u001B[0;34m\u001B[0m\u001B[0m\n\u001B[0m\u001B[1;32m    115\u001B[0m \u001B[0;34m\u001B[0m\u001B[0m\n",
      "\u001B[0;32m~/PycharmProjects/DS550/venv/lib/python3.7/site-packages/sqlalchemy/engine/default.py\u001B[0m in \u001B[0;36mconnect\u001B[0;34m(self, *cargs, **cparams)\u001B[0m\n\u001B[1;32m    492\u001B[0m         \u001B[0;31m# inherits the docstring from interfaces.Dialect.connect\u001B[0m\u001B[0;34m\u001B[0m\u001B[0;34m\u001B[0m\u001B[0;34m\u001B[0m\u001B[0m\n\u001B[0;32m--> 493\u001B[0;31m         \u001B[0;32mreturn\u001B[0m \u001B[0mself\u001B[0m\u001B[0;34m.\u001B[0m\u001B[0mdbapi\u001B[0m\u001B[0;34m.\u001B[0m\u001B[0mconnect\u001B[0m\u001B[0;34m(\u001B[0m\u001B[0;34m*\u001B[0m\u001B[0mcargs\u001B[0m\u001B[0;34m,\u001B[0m \u001B[0;34m**\u001B[0m\u001B[0mcparams\u001B[0m\u001B[0;34m)\u001B[0m\u001B[0;34m\u001B[0m\u001B[0;34m\u001B[0m\u001B[0m\n\u001B[0m\u001B[1;32m    494\u001B[0m \u001B[0;34m\u001B[0m\u001B[0m\n",
      "\u001B[0;31mOperationalError\u001B[0m: unable to open database file",
      "\nThe above exception was the direct cause of the following exception:\n",
      "\u001B[0;31mOperationalError\u001B[0m                          Traceback (most recent call last)",
      "\u001B[0;32m<ipython-input-256-ea5d70aba33d>\u001B[0m in \u001B[0;36m<module>\u001B[0;34m\u001B[0m\n\u001B[1;32m      5\u001B[0m \u001B[0;34m\u001B[0m\u001B[0m\n\u001B[1;32m      6\u001B[0m \u001B[0;31m# Load data\u001B[0m\u001B[0;34m\u001B[0m\u001B[0;34m\u001B[0m\u001B[0;34m\u001B[0m\u001B[0m\n\u001B[0;32m----> 7\u001B[0;31m \u001B[0mdataframe\u001B[0m \u001B[0;34m=\u001B[0m \u001B[0mpd\u001B[0m\u001B[0;34m.\u001B[0m\u001B[0mread_sql_query\u001B[0m\u001B[0;34m(\u001B[0m\u001B[0;34m'SELECT * FROM data_sources'\u001B[0m\u001B[0;34m,\u001B[0m \u001B[0mdatabase_connection\u001B[0m\u001B[0;34m)\u001B[0m\u001B[0;34m\u001B[0m\u001B[0;34m\u001B[0m\u001B[0m\n\u001B[0m\u001B[1;32m      8\u001B[0m \u001B[0;34m\u001B[0m\u001B[0m\n\u001B[1;32m      9\u001B[0m \u001B[0;31m# View first two rows\u001B[0m\u001B[0;34m\u001B[0m\u001B[0;34m\u001B[0m\u001B[0;34m\u001B[0m\u001B[0m\n",
      "\u001B[0;32m~/PycharmProjects/DS550/venv/lib/python3.7/site-packages/pandas/io/sql.py\u001B[0m in \u001B[0;36mread_sql_query\u001B[0;34m(sql, con, index_col, coerce_float, params, parse_dates, chunksize)\u001B[0m\n\u001B[1;32m    381\u001B[0m         \u001B[0mcoerce_float\u001B[0m\u001B[0;34m=\u001B[0m\u001B[0mcoerce_float\u001B[0m\u001B[0;34m,\u001B[0m\u001B[0;34m\u001B[0m\u001B[0;34m\u001B[0m\u001B[0m\n\u001B[1;32m    382\u001B[0m         \u001B[0mparse_dates\u001B[0m\u001B[0;34m=\u001B[0m\u001B[0mparse_dates\u001B[0m\u001B[0;34m,\u001B[0m\u001B[0;34m\u001B[0m\u001B[0;34m\u001B[0m\u001B[0m\n\u001B[0;32m--> 383\u001B[0;31m         \u001B[0mchunksize\u001B[0m\u001B[0;34m=\u001B[0m\u001B[0mchunksize\u001B[0m\u001B[0;34m,\u001B[0m\u001B[0;34m\u001B[0m\u001B[0;34m\u001B[0m\u001B[0m\n\u001B[0m\u001B[1;32m    384\u001B[0m     )\n\u001B[1;32m    385\u001B[0m \u001B[0;34m\u001B[0m\u001B[0m\n",
      "\u001B[0;32m~/PycharmProjects/DS550/venv/lib/python3.7/site-packages/pandas/io/sql.py\u001B[0m in \u001B[0;36mread_query\u001B[0;34m(self, sql, index_col, coerce_float, parse_dates, params, chunksize)\u001B[0m\n\u001B[1;32m   1293\u001B[0m         \u001B[0margs\u001B[0m \u001B[0;34m=\u001B[0m \u001B[0m_convert_params\u001B[0m\u001B[0;34m(\u001B[0m\u001B[0msql\u001B[0m\u001B[0;34m,\u001B[0m \u001B[0mparams\u001B[0m\u001B[0;34m)\u001B[0m\u001B[0;34m\u001B[0m\u001B[0;34m\u001B[0m\u001B[0m\n\u001B[1;32m   1294\u001B[0m \u001B[0;34m\u001B[0m\u001B[0m\n\u001B[0;32m-> 1295\u001B[0;31m         \u001B[0mresult\u001B[0m \u001B[0;34m=\u001B[0m \u001B[0mself\u001B[0m\u001B[0;34m.\u001B[0m\u001B[0mexecute\u001B[0m\u001B[0;34m(\u001B[0m\u001B[0;34m*\u001B[0m\u001B[0margs\u001B[0m\u001B[0;34m)\u001B[0m\u001B[0;34m\u001B[0m\u001B[0;34m\u001B[0m\u001B[0m\n\u001B[0m\u001B[1;32m   1296\u001B[0m         \u001B[0mcolumns\u001B[0m \u001B[0;34m=\u001B[0m \u001B[0mresult\u001B[0m\u001B[0;34m.\u001B[0m\u001B[0mkeys\u001B[0m\u001B[0;34m(\u001B[0m\u001B[0;34m)\u001B[0m\u001B[0;34m\u001B[0m\u001B[0;34m\u001B[0m\u001B[0m\n\u001B[1;32m   1297\u001B[0m \u001B[0;34m\u001B[0m\u001B[0m\n",
      "\u001B[0;32m~/PycharmProjects/DS550/venv/lib/python3.7/site-packages/pandas/io/sql.py\u001B[0m in \u001B[0;36mexecute\u001B[0;34m(self, *args, **kwargs)\u001B[0m\n\u001B[1;32m   1160\u001B[0m         \u001B[0;34m\"\"\"Simple passthrough to SQLAlchemy connectable\"\"\"\u001B[0m\u001B[0;34m\u001B[0m\u001B[0;34m\u001B[0m\u001B[0m\n\u001B[1;32m   1161\u001B[0m         return self.connectable.execution_options(no_parameters=True).execute(\n\u001B[0;32m-> 1162\u001B[0;31m             \u001B[0;34m*\u001B[0m\u001B[0margs\u001B[0m\u001B[0;34m,\u001B[0m \u001B[0;34m**\u001B[0m\u001B[0mkwargs\u001B[0m\u001B[0;34m\u001B[0m\u001B[0;34m\u001B[0m\u001B[0m\n\u001B[0m\u001B[1;32m   1163\u001B[0m         )\n\u001B[1;32m   1164\u001B[0m \u001B[0;34m\u001B[0m\u001B[0m\n",
      "\u001B[0;32m~/PycharmProjects/DS550/venv/lib/python3.7/site-packages/sqlalchemy/engine/base.py\u001B[0m in \u001B[0;36mexecute\u001B[0;34m(self, statement, *multiparams, **params)\u001B[0m\n\u001B[1;32m   2234\u001B[0m         \"\"\"\n\u001B[1;32m   2235\u001B[0m \u001B[0;34m\u001B[0m\u001B[0m\n\u001B[0;32m-> 2236\u001B[0;31m         \u001B[0mconnection\u001B[0m \u001B[0;34m=\u001B[0m \u001B[0mself\u001B[0m\u001B[0;34m.\u001B[0m\u001B[0m_contextual_connect\u001B[0m\u001B[0;34m(\u001B[0m\u001B[0mclose_with_result\u001B[0m\u001B[0;34m=\u001B[0m\u001B[0;32mTrue\u001B[0m\u001B[0;34m)\u001B[0m\u001B[0;34m\u001B[0m\u001B[0;34m\u001B[0m\u001B[0m\n\u001B[0m\u001B[1;32m   2237\u001B[0m         \u001B[0;32mreturn\u001B[0m \u001B[0mconnection\u001B[0m\u001B[0;34m.\u001B[0m\u001B[0mexecute\u001B[0m\u001B[0;34m(\u001B[0m\u001B[0mstatement\u001B[0m\u001B[0;34m,\u001B[0m \u001B[0;34m*\u001B[0m\u001B[0mmultiparams\u001B[0m\u001B[0;34m,\u001B[0m \u001B[0;34m**\u001B[0m\u001B[0mparams\u001B[0m\u001B[0;34m)\u001B[0m\u001B[0;34m\u001B[0m\u001B[0;34m\u001B[0m\u001B[0m\n\u001B[1;32m   2238\u001B[0m \u001B[0;34m\u001B[0m\u001B[0m\n",
      "\u001B[0;32m~/PycharmProjects/DS550/venv/lib/python3.7/site-packages/sqlalchemy/engine/base.py\u001B[0m in \u001B[0;36m_contextual_connect\u001B[0;34m(self, close_with_result, **kwargs)\u001B[0m\n\u001B[1;32m   2302\u001B[0m         return self._connection_cls(\n\u001B[1;32m   2303\u001B[0m             \u001B[0mself\u001B[0m\u001B[0;34m,\u001B[0m\u001B[0;34m\u001B[0m\u001B[0;34m\u001B[0m\u001B[0m\n\u001B[0;32m-> 2304\u001B[0;31m             \u001B[0mself\u001B[0m\u001B[0;34m.\u001B[0m\u001B[0m_wrap_pool_connect\u001B[0m\u001B[0;34m(\u001B[0m\u001B[0mself\u001B[0m\u001B[0;34m.\u001B[0m\u001B[0mpool\u001B[0m\u001B[0;34m.\u001B[0m\u001B[0mconnect\u001B[0m\u001B[0;34m,\u001B[0m \u001B[0;32mNone\u001B[0m\u001B[0;34m)\u001B[0m\u001B[0;34m,\u001B[0m\u001B[0;34m\u001B[0m\u001B[0;34m\u001B[0m\u001B[0m\n\u001B[0m\u001B[1;32m   2305\u001B[0m             \u001B[0mclose_with_result\u001B[0m\u001B[0;34m=\u001B[0m\u001B[0mclose_with_result\u001B[0m\u001B[0;34m,\u001B[0m\u001B[0;34m\u001B[0m\u001B[0;34m\u001B[0m\u001B[0m\n\u001B[1;32m   2306\u001B[0m             \u001B[0;34m**\u001B[0m\u001B[0mkwargs\u001B[0m\u001B[0;34m\u001B[0m\u001B[0;34m\u001B[0m\u001B[0m\n",
      "\u001B[0;32m~/PycharmProjects/DS550/venv/lib/python3.7/site-packages/sqlalchemy/engine/base.py\u001B[0m in \u001B[0;36m_wrap_pool_connect\u001B[0;34m(self, fn, connection)\u001B[0m\n\u001B[1;32m   2340\u001B[0m             \u001B[0;32mif\u001B[0m \u001B[0mconnection\u001B[0m \u001B[0;32mis\u001B[0m \u001B[0;32mNone\u001B[0m\u001B[0;34m:\u001B[0m\u001B[0;34m\u001B[0m\u001B[0;34m\u001B[0m\u001B[0m\n\u001B[1;32m   2341\u001B[0m                 Connection._handle_dbapi_exception_noconnection(\n\u001B[0;32m-> 2342\u001B[0;31m                     \u001B[0me\u001B[0m\u001B[0;34m,\u001B[0m \u001B[0mdialect\u001B[0m\u001B[0;34m,\u001B[0m \u001B[0mself\u001B[0m\u001B[0;34m\u001B[0m\u001B[0;34m\u001B[0m\u001B[0m\n\u001B[0m\u001B[1;32m   2343\u001B[0m                 )\n\u001B[1;32m   2344\u001B[0m             \u001B[0;32melse\u001B[0m\u001B[0;34m:\u001B[0m\u001B[0;34m\u001B[0m\u001B[0;34m\u001B[0m\u001B[0m\n",
      "\u001B[0;32m~/PycharmProjects/DS550/venv/lib/python3.7/site-packages/sqlalchemy/engine/base.py\u001B[0m in \u001B[0;36m_handle_dbapi_exception_noconnection\u001B[0;34m(cls, e, dialect, engine)\u001B[0m\n\u001B[1;32m   1582\u001B[0m         \u001B[0;32melif\u001B[0m \u001B[0mshould_wrap\u001B[0m\u001B[0;34m:\u001B[0m\u001B[0;34m\u001B[0m\u001B[0;34m\u001B[0m\u001B[0m\n\u001B[1;32m   1583\u001B[0m             util.raise_(\n\u001B[0;32m-> 1584\u001B[0;31m                 \u001B[0msqlalchemy_exception\u001B[0m\u001B[0;34m,\u001B[0m \u001B[0mwith_traceback\u001B[0m\u001B[0;34m=\u001B[0m\u001B[0mexc_info\u001B[0m\u001B[0;34m[\u001B[0m\u001B[0;36m2\u001B[0m\u001B[0;34m]\u001B[0m\u001B[0;34m,\u001B[0m \u001B[0mfrom_\u001B[0m\u001B[0;34m=\u001B[0m\u001B[0me\u001B[0m\u001B[0;34m\u001B[0m\u001B[0;34m\u001B[0m\u001B[0m\n\u001B[0m\u001B[1;32m   1585\u001B[0m             )\n\u001B[1;32m   1586\u001B[0m         \u001B[0;32melse\u001B[0m\u001B[0;34m:\u001B[0m\u001B[0;34m\u001B[0m\u001B[0;34m\u001B[0m\u001B[0m\n",
      "\u001B[0;32m~/PycharmProjects/DS550/venv/lib/python3.7/site-packages/sqlalchemy/util/compat.py\u001B[0m in \u001B[0;36mraise_\u001B[0;34m(***failed resolving arguments***)\u001B[0m\n\u001B[1;32m    180\u001B[0m \u001B[0;34m\u001B[0m\u001B[0m\n\u001B[1;32m    181\u001B[0m         \u001B[0;32mtry\u001B[0m\u001B[0;34m:\u001B[0m\u001B[0;34m\u001B[0m\u001B[0;34m\u001B[0m\u001B[0m\n\u001B[0;32m--> 182\u001B[0;31m             \u001B[0;32mraise\u001B[0m \u001B[0mexception\u001B[0m\u001B[0;34m\u001B[0m\u001B[0;34m\u001B[0m\u001B[0m\n\u001B[0m\u001B[1;32m    183\u001B[0m         \u001B[0;32mfinally\u001B[0m\u001B[0;34m:\u001B[0m\u001B[0;34m\u001B[0m\u001B[0;34m\u001B[0m\u001B[0m\n\u001B[1;32m    184\u001B[0m             \u001B[0;31m# credit to\u001B[0m\u001B[0;34m\u001B[0m\u001B[0;34m\u001B[0m\u001B[0;34m\u001B[0m\u001B[0m\n",
      "\u001B[0;32m~/PycharmProjects/DS550/venv/lib/python3.7/site-packages/sqlalchemy/engine/base.py\u001B[0m in \u001B[0;36m_wrap_pool_connect\u001B[0;34m(self, fn, connection)\u001B[0m\n\u001B[1;32m   2336\u001B[0m         \u001B[0mdialect\u001B[0m \u001B[0;34m=\u001B[0m \u001B[0mself\u001B[0m\u001B[0;34m.\u001B[0m\u001B[0mdialect\u001B[0m\u001B[0;34m\u001B[0m\u001B[0;34m\u001B[0m\u001B[0m\n\u001B[1;32m   2337\u001B[0m         \u001B[0;32mtry\u001B[0m\u001B[0;34m:\u001B[0m\u001B[0;34m\u001B[0m\u001B[0;34m\u001B[0m\u001B[0m\n\u001B[0;32m-> 2338\u001B[0;31m             \u001B[0;32mreturn\u001B[0m \u001B[0mfn\u001B[0m\u001B[0;34m(\u001B[0m\u001B[0;34m)\u001B[0m\u001B[0;34m\u001B[0m\u001B[0;34m\u001B[0m\u001B[0m\n\u001B[0m\u001B[1;32m   2339\u001B[0m         \u001B[0;32mexcept\u001B[0m \u001B[0mdialect\u001B[0m\u001B[0;34m.\u001B[0m\u001B[0mdbapi\u001B[0m\u001B[0;34m.\u001B[0m\u001B[0mError\u001B[0m \u001B[0;32mas\u001B[0m \u001B[0me\u001B[0m\u001B[0;34m:\u001B[0m\u001B[0;34m\u001B[0m\u001B[0;34m\u001B[0m\u001B[0m\n\u001B[1;32m   2340\u001B[0m             \u001B[0;32mif\u001B[0m \u001B[0mconnection\u001B[0m \u001B[0;32mis\u001B[0m \u001B[0;32mNone\u001B[0m\u001B[0;34m:\u001B[0m\u001B[0;34m\u001B[0m\u001B[0;34m\u001B[0m\u001B[0m\n",
      "\u001B[0;32m~/PycharmProjects/DS550/venv/lib/python3.7/site-packages/sqlalchemy/pool/base.py\u001B[0m in \u001B[0;36mconnect\u001B[0;34m(self)\u001B[0m\n\u001B[1;32m    362\u001B[0m         \"\"\"\n\u001B[1;32m    363\u001B[0m         \u001B[0;32mif\u001B[0m \u001B[0;32mnot\u001B[0m \u001B[0mself\u001B[0m\u001B[0;34m.\u001B[0m\u001B[0m_use_threadlocal\u001B[0m\u001B[0;34m:\u001B[0m\u001B[0;34m\u001B[0m\u001B[0;34m\u001B[0m\u001B[0m\n\u001B[0;32m--> 364\u001B[0;31m             \u001B[0;32mreturn\u001B[0m \u001B[0m_ConnectionFairy\u001B[0m\u001B[0;34m.\u001B[0m\u001B[0m_checkout\u001B[0m\u001B[0;34m(\u001B[0m\u001B[0mself\u001B[0m\u001B[0;34m)\u001B[0m\u001B[0;34m\u001B[0m\u001B[0;34m\u001B[0m\u001B[0m\n\u001B[0m\u001B[1;32m    365\u001B[0m \u001B[0;34m\u001B[0m\u001B[0m\n\u001B[1;32m    366\u001B[0m         \u001B[0;32mtry\u001B[0m\u001B[0;34m:\u001B[0m\u001B[0;34m\u001B[0m\u001B[0;34m\u001B[0m\u001B[0m\n",
      "\u001B[0;32m~/PycharmProjects/DS550/venv/lib/python3.7/site-packages/sqlalchemy/pool/base.py\u001B[0m in \u001B[0;36m_checkout\u001B[0;34m(cls, pool, threadconns, fairy)\u001B[0m\n\u001B[1;32m    776\u001B[0m     \u001B[0;32mdef\u001B[0m \u001B[0m_checkout\u001B[0m\u001B[0;34m(\u001B[0m\u001B[0mcls\u001B[0m\u001B[0;34m,\u001B[0m \u001B[0mpool\u001B[0m\u001B[0;34m,\u001B[0m \u001B[0mthreadconns\u001B[0m\u001B[0;34m=\u001B[0m\u001B[0;32mNone\u001B[0m\u001B[0;34m,\u001B[0m \u001B[0mfairy\u001B[0m\u001B[0;34m=\u001B[0m\u001B[0;32mNone\u001B[0m\u001B[0;34m)\u001B[0m\u001B[0;34m:\u001B[0m\u001B[0;34m\u001B[0m\u001B[0;34m\u001B[0m\u001B[0m\n\u001B[1;32m    777\u001B[0m         \u001B[0;32mif\u001B[0m \u001B[0;32mnot\u001B[0m \u001B[0mfairy\u001B[0m\u001B[0;34m:\u001B[0m\u001B[0;34m\u001B[0m\u001B[0;34m\u001B[0m\u001B[0m\n\u001B[0;32m--> 778\u001B[0;31m             \u001B[0mfairy\u001B[0m \u001B[0;34m=\u001B[0m \u001B[0m_ConnectionRecord\u001B[0m\u001B[0;34m.\u001B[0m\u001B[0mcheckout\u001B[0m\u001B[0;34m(\u001B[0m\u001B[0mpool\u001B[0m\u001B[0;34m)\u001B[0m\u001B[0;34m\u001B[0m\u001B[0;34m\u001B[0m\u001B[0m\n\u001B[0m\u001B[1;32m    779\u001B[0m \u001B[0;34m\u001B[0m\u001B[0m\n\u001B[1;32m    780\u001B[0m             \u001B[0mfairy\u001B[0m\u001B[0;34m.\u001B[0m\u001B[0m_pool\u001B[0m \u001B[0;34m=\u001B[0m \u001B[0mpool\u001B[0m\u001B[0;34m\u001B[0m\u001B[0;34m\u001B[0m\u001B[0m\n",
      "\u001B[0;32m~/PycharmProjects/DS550/venv/lib/python3.7/site-packages/sqlalchemy/pool/base.py\u001B[0m in \u001B[0;36mcheckout\u001B[0;34m(cls, pool)\u001B[0m\n\u001B[1;32m    493\u001B[0m     \u001B[0;34m@\u001B[0m\u001B[0mclassmethod\u001B[0m\u001B[0;34m\u001B[0m\u001B[0;34m\u001B[0m\u001B[0m\n\u001B[1;32m    494\u001B[0m     \u001B[0;32mdef\u001B[0m \u001B[0mcheckout\u001B[0m\u001B[0;34m(\u001B[0m\u001B[0mcls\u001B[0m\u001B[0;34m,\u001B[0m \u001B[0mpool\u001B[0m\u001B[0;34m)\u001B[0m\u001B[0;34m:\u001B[0m\u001B[0;34m\u001B[0m\u001B[0;34m\u001B[0m\u001B[0m\n\u001B[0;32m--> 495\u001B[0;31m         \u001B[0mrec\u001B[0m \u001B[0;34m=\u001B[0m \u001B[0mpool\u001B[0m\u001B[0;34m.\u001B[0m\u001B[0m_do_get\u001B[0m\u001B[0;34m(\u001B[0m\u001B[0;34m)\u001B[0m\u001B[0;34m\u001B[0m\u001B[0;34m\u001B[0m\u001B[0m\n\u001B[0m\u001B[1;32m    496\u001B[0m         \u001B[0;32mtry\u001B[0m\u001B[0;34m:\u001B[0m\u001B[0;34m\u001B[0m\u001B[0;34m\u001B[0m\u001B[0m\n\u001B[1;32m    497\u001B[0m             \u001B[0mdbapi_connection\u001B[0m \u001B[0;34m=\u001B[0m \u001B[0mrec\u001B[0m\u001B[0;34m.\u001B[0m\u001B[0mget_connection\u001B[0m\u001B[0;34m(\u001B[0m\u001B[0;34m)\u001B[0m\u001B[0;34m\u001B[0m\u001B[0;34m\u001B[0m\u001B[0m\n",
      "\u001B[0;32m~/PycharmProjects/DS550/venv/lib/python3.7/site-packages/sqlalchemy/pool/impl.py\u001B[0m in \u001B[0;36m_do_get\u001B[0;34m(self)\u001B[0m\n\u001B[1;32m    237\u001B[0m \u001B[0;34m\u001B[0m\u001B[0m\n\u001B[1;32m    238\u001B[0m     \u001B[0;32mdef\u001B[0m \u001B[0m_do_get\u001B[0m\u001B[0;34m(\u001B[0m\u001B[0mself\u001B[0m\u001B[0;34m)\u001B[0m\u001B[0;34m:\u001B[0m\u001B[0;34m\u001B[0m\u001B[0;34m\u001B[0m\u001B[0m\n\u001B[0;32m--> 239\u001B[0;31m         \u001B[0;32mreturn\u001B[0m \u001B[0mself\u001B[0m\u001B[0;34m.\u001B[0m\u001B[0m_create_connection\u001B[0m\u001B[0;34m(\u001B[0m\u001B[0;34m)\u001B[0m\u001B[0;34m\u001B[0m\u001B[0;34m\u001B[0m\u001B[0m\n\u001B[0m\u001B[1;32m    240\u001B[0m \u001B[0;34m\u001B[0m\u001B[0m\n\u001B[1;32m    241\u001B[0m     \u001B[0;32mdef\u001B[0m \u001B[0mrecreate\u001B[0m\u001B[0;34m(\u001B[0m\u001B[0mself\u001B[0m\u001B[0;34m)\u001B[0m\u001B[0;34m:\u001B[0m\u001B[0;34m\u001B[0m\u001B[0;34m\u001B[0m\u001B[0m\n",
      "\u001B[0;32m~/PycharmProjects/DS550/venv/lib/python3.7/site-packages/sqlalchemy/pool/base.py\u001B[0m in \u001B[0;36m_create_connection\u001B[0;34m(self)\u001B[0m\n\u001B[1;32m    307\u001B[0m         \u001B[0;34m\"\"\"Called by subclasses to create a new ConnectionRecord.\"\"\"\u001B[0m\u001B[0;34m\u001B[0m\u001B[0;34m\u001B[0m\u001B[0m\n\u001B[1;32m    308\u001B[0m \u001B[0;34m\u001B[0m\u001B[0m\n\u001B[0;32m--> 309\u001B[0;31m         \u001B[0;32mreturn\u001B[0m \u001B[0m_ConnectionRecord\u001B[0m\u001B[0;34m(\u001B[0m\u001B[0mself\u001B[0m\u001B[0;34m)\u001B[0m\u001B[0;34m\u001B[0m\u001B[0;34m\u001B[0m\u001B[0m\n\u001B[0m\u001B[1;32m    310\u001B[0m \u001B[0;34m\u001B[0m\u001B[0m\n\u001B[1;32m    311\u001B[0m     \u001B[0;32mdef\u001B[0m \u001B[0m_invalidate\u001B[0m\u001B[0;34m(\u001B[0m\u001B[0mself\u001B[0m\u001B[0;34m,\u001B[0m \u001B[0mconnection\u001B[0m\u001B[0;34m,\u001B[0m \u001B[0mexception\u001B[0m\u001B[0;34m=\u001B[0m\u001B[0;32mNone\u001B[0m\u001B[0;34m,\u001B[0m \u001B[0m_checkin\u001B[0m\u001B[0;34m=\u001B[0m\u001B[0;32mTrue\u001B[0m\u001B[0;34m)\u001B[0m\u001B[0;34m:\u001B[0m\u001B[0;34m\u001B[0m\u001B[0;34m\u001B[0m\u001B[0m\n",
      "\u001B[0;32m~/PycharmProjects/DS550/venv/lib/python3.7/site-packages/sqlalchemy/pool/base.py\u001B[0m in \u001B[0;36m__init__\u001B[0;34m(self, pool, connect)\u001B[0m\n\u001B[1;32m    438\u001B[0m         \u001B[0mself\u001B[0m\u001B[0;34m.\u001B[0m\u001B[0m__pool\u001B[0m \u001B[0;34m=\u001B[0m \u001B[0mpool\u001B[0m\u001B[0;34m\u001B[0m\u001B[0;34m\u001B[0m\u001B[0m\n\u001B[1;32m    439\u001B[0m         \u001B[0;32mif\u001B[0m \u001B[0mconnect\u001B[0m\u001B[0;34m:\u001B[0m\u001B[0;34m\u001B[0m\u001B[0;34m\u001B[0m\u001B[0m\n\u001B[0;32m--> 440\u001B[0;31m             \u001B[0mself\u001B[0m\u001B[0;34m.\u001B[0m\u001B[0m__connect\u001B[0m\u001B[0;34m(\u001B[0m\u001B[0mfirst_connect_check\u001B[0m\u001B[0;34m=\u001B[0m\u001B[0;32mTrue\u001B[0m\u001B[0;34m)\u001B[0m\u001B[0;34m\u001B[0m\u001B[0;34m\u001B[0m\u001B[0m\n\u001B[0m\u001B[1;32m    441\u001B[0m         \u001B[0mself\u001B[0m\u001B[0;34m.\u001B[0m\u001B[0mfinalize_callback\u001B[0m \u001B[0;34m=\u001B[0m \u001B[0mdeque\u001B[0m\u001B[0;34m(\u001B[0m\u001B[0;34m)\u001B[0m\u001B[0;34m\u001B[0m\u001B[0;34m\u001B[0m\u001B[0m\n\u001B[1;32m    442\u001B[0m \u001B[0;34m\u001B[0m\u001B[0m\n",
      "\u001B[0;32m~/PycharmProjects/DS550/venv/lib/python3.7/site-packages/sqlalchemy/pool/base.py\u001B[0m in \u001B[0;36m__connect\u001B[0;34m(self, first_connect_check)\u001B[0m\n\u001B[1;32m    659\u001B[0m         \u001B[0;32mexcept\u001B[0m \u001B[0mException\u001B[0m \u001B[0;32mas\u001B[0m \u001B[0me\u001B[0m\u001B[0;34m:\u001B[0m\u001B[0;34m\u001B[0m\u001B[0;34m\u001B[0m\u001B[0m\n\u001B[1;32m    660\u001B[0m             \u001B[0;32mwith\u001B[0m \u001B[0mutil\u001B[0m\u001B[0;34m.\u001B[0m\u001B[0msafe_reraise\u001B[0m\u001B[0;34m(\u001B[0m\u001B[0;34m)\u001B[0m\u001B[0;34m:\u001B[0m\u001B[0;34m\u001B[0m\u001B[0;34m\u001B[0m\u001B[0m\n\u001B[0;32m--> 661\u001B[0;31m                 \u001B[0mpool\u001B[0m\u001B[0;34m.\u001B[0m\u001B[0mlogger\u001B[0m\u001B[0;34m.\u001B[0m\u001B[0mdebug\u001B[0m\u001B[0;34m(\u001B[0m\u001B[0;34m\"Error on connect(): %s\"\u001B[0m\u001B[0;34m,\u001B[0m \u001B[0me\u001B[0m\u001B[0;34m)\u001B[0m\u001B[0;34m\u001B[0m\u001B[0;34m\u001B[0m\u001B[0m\n\u001B[0m\u001B[1;32m    662\u001B[0m         \u001B[0;32melse\u001B[0m\u001B[0;34m:\u001B[0m\u001B[0;34m\u001B[0m\u001B[0;34m\u001B[0m\u001B[0m\n\u001B[1;32m    663\u001B[0m             \u001B[0;32mif\u001B[0m \u001B[0mfirst_connect_check\u001B[0m\u001B[0;34m:\u001B[0m\u001B[0;34m\u001B[0m\u001B[0;34m\u001B[0m\u001B[0m\n",
      "\u001B[0;32m~/PycharmProjects/DS550/venv/lib/python3.7/site-packages/sqlalchemy/util/langhelpers.py\u001B[0m in \u001B[0;36m__exit__\u001B[0;34m(self, type_, value, traceback)\u001B[0m\n\u001B[1;32m     67\u001B[0m             \u001B[0;32mif\u001B[0m \u001B[0;32mnot\u001B[0m \u001B[0mself\u001B[0m\u001B[0;34m.\u001B[0m\u001B[0mwarn_only\u001B[0m\u001B[0;34m:\u001B[0m\u001B[0;34m\u001B[0m\u001B[0;34m\u001B[0m\u001B[0m\n\u001B[1;32m     68\u001B[0m                 compat.raise_(\n\u001B[0;32m---> 69\u001B[0;31m                     \u001B[0mexc_value\u001B[0m\u001B[0;34m,\u001B[0m \u001B[0mwith_traceback\u001B[0m\u001B[0;34m=\u001B[0m\u001B[0mexc_tb\u001B[0m\u001B[0;34m,\u001B[0m\u001B[0;34m\u001B[0m\u001B[0;34m\u001B[0m\u001B[0m\n\u001B[0m\u001B[1;32m     70\u001B[0m                 )\n\u001B[1;32m     71\u001B[0m         \u001B[0;32melse\u001B[0m\u001B[0;34m:\u001B[0m\u001B[0;34m\u001B[0m\u001B[0;34m\u001B[0m\u001B[0m\n",
      "\u001B[0;32m~/PycharmProjects/DS550/venv/lib/python3.7/site-packages/sqlalchemy/util/compat.py\u001B[0m in \u001B[0;36mraise_\u001B[0;34m(***failed resolving arguments***)\u001B[0m\n\u001B[1;32m    180\u001B[0m \u001B[0;34m\u001B[0m\u001B[0m\n\u001B[1;32m    181\u001B[0m         \u001B[0;32mtry\u001B[0m\u001B[0;34m:\u001B[0m\u001B[0;34m\u001B[0m\u001B[0;34m\u001B[0m\u001B[0m\n\u001B[0;32m--> 182\u001B[0;31m             \u001B[0;32mraise\u001B[0m \u001B[0mexception\u001B[0m\u001B[0;34m\u001B[0m\u001B[0;34m\u001B[0m\u001B[0m\n\u001B[0m\u001B[1;32m    183\u001B[0m         \u001B[0;32mfinally\u001B[0m\u001B[0;34m:\u001B[0m\u001B[0;34m\u001B[0m\u001B[0;34m\u001B[0m\u001B[0m\n\u001B[1;32m    184\u001B[0m             \u001B[0;31m# credit to\u001B[0m\u001B[0;34m\u001B[0m\u001B[0;34m\u001B[0m\u001B[0;34m\u001B[0m\u001B[0m\n",
      "\u001B[0;32m~/PycharmProjects/DS550/venv/lib/python3.7/site-packages/sqlalchemy/pool/base.py\u001B[0m in \u001B[0;36m__connect\u001B[0;34m(self, first_connect_check)\u001B[0m\n\u001B[1;32m    654\u001B[0m         \u001B[0;32mtry\u001B[0m\u001B[0;34m:\u001B[0m\u001B[0;34m\u001B[0m\u001B[0;34m\u001B[0m\u001B[0m\n\u001B[1;32m    655\u001B[0m             \u001B[0mself\u001B[0m\u001B[0;34m.\u001B[0m\u001B[0mstarttime\u001B[0m \u001B[0;34m=\u001B[0m \u001B[0mtime\u001B[0m\u001B[0;34m.\u001B[0m\u001B[0mtime\u001B[0m\u001B[0;34m(\u001B[0m\u001B[0;34m)\u001B[0m\u001B[0;34m\u001B[0m\u001B[0;34m\u001B[0m\u001B[0m\n\u001B[0;32m--> 656\u001B[0;31m             \u001B[0mconnection\u001B[0m \u001B[0;34m=\u001B[0m \u001B[0mpool\u001B[0m\u001B[0;34m.\u001B[0m\u001B[0m_invoke_creator\u001B[0m\u001B[0;34m(\u001B[0m\u001B[0mself\u001B[0m\u001B[0;34m)\u001B[0m\u001B[0;34m\u001B[0m\u001B[0;34m\u001B[0m\u001B[0m\n\u001B[0m\u001B[1;32m    657\u001B[0m             \u001B[0mpool\u001B[0m\u001B[0;34m.\u001B[0m\u001B[0mlogger\u001B[0m\u001B[0;34m.\u001B[0m\u001B[0mdebug\u001B[0m\u001B[0;34m(\u001B[0m\u001B[0;34m\"Created new connection %r\"\u001B[0m\u001B[0;34m,\u001B[0m \u001B[0mconnection\u001B[0m\u001B[0;34m)\u001B[0m\u001B[0;34m\u001B[0m\u001B[0;34m\u001B[0m\u001B[0m\n\u001B[1;32m    658\u001B[0m             \u001B[0mself\u001B[0m\u001B[0;34m.\u001B[0m\u001B[0mconnection\u001B[0m \u001B[0;34m=\u001B[0m \u001B[0mconnection\u001B[0m\u001B[0;34m\u001B[0m\u001B[0;34m\u001B[0m\u001B[0m\n",
      "\u001B[0;32m~/PycharmProjects/DS550/venv/lib/python3.7/site-packages/sqlalchemy/engine/strategies.py\u001B[0m in \u001B[0;36mconnect\u001B[0;34m(connection_record)\u001B[0m\n\u001B[1;32m    112\u001B[0m                         \u001B[0;32mif\u001B[0m \u001B[0mconnection\u001B[0m \u001B[0;32mis\u001B[0m \u001B[0;32mnot\u001B[0m \u001B[0;32mNone\u001B[0m\u001B[0;34m:\u001B[0m\u001B[0;34m\u001B[0m\u001B[0;34m\u001B[0m\u001B[0m\n\u001B[1;32m    113\u001B[0m                             \u001B[0;32mreturn\u001B[0m \u001B[0mconnection\u001B[0m\u001B[0;34m\u001B[0m\u001B[0;34m\u001B[0m\u001B[0m\n\u001B[0;32m--> 114\u001B[0;31m                 \u001B[0;32mreturn\u001B[0m \u001B[0mdialect\u001B[0m\u001B[0;34m.\u001B[0m\u001B[0mconnect\u001B[0m\u001B[0;34m(\u001B[0m\u001B[0;34m*\u001B[0m\u001B[0mcargs\u001B[0m\u001B[0;34m,\u001B[0m \u001B[0;34m**\u001B[0m\u001B[0mcparams\u001B[0m\u001B[0;34m)\u001B[0m\u001B[0;34m\u001B[0m\u001B[0;34m\u001B[0m\u001B[0m\n\u001B[0m\u001B[1;32m    115\u001B[0m \u001B[0;34m\u001B[0m\u001B[0m\n\u001B[1;32m    116\u001B[0m             \u001B[0mcreator\u001B[0m \u001B[0;34m=\u001B[0m \u001B[0mpop_kwarg\u001B[0m\u001B[0;34m(\u001B[0m\u001B[0;34m\"creator\"\u001B[0m\u001B[0;34m,\u001B[0m \u001B[0mconnect\u001B[0m\u001B[0;34m)\u001B[0m\u001B[0;34m\u001B[0m\u001B[0;34m\u001B[0m\u001B[0m\n",
      "\u001B[0;32m~/PycharmProjects/DS550/venv/lib/python3.7/site-packages/sqlalchemy/engine/default.py\u001B[0m in \u001B[0;36mconnect\u001B[0;34m(self, *cargs, **cparams)\u001B[0m\n\u001B[1;32m    491\u001B[0m     \u001B[0;32mdef\u001B[0m \u001B[0mconnect\u001B[0m\u001B[0;34m(\u001B[0m\u001B[0mself\u001B[0m\u001B[0;34m,\u001B[0m \u001B[0;34m*\u001B[0m\u001B[0mcargs\u001B[0m\u001B[0;34m,\u001B[0m \u001B[0;34m**\u001B[0m\u001B[0mcparams\u001B[0m\u001B[0;34m)\u001B[0m\u001B[0;34m:\u001B[0m\u001B[0;34m\u001B[0m\u001B[0;34m\u001B[0m\u001B[0m\n\u001B[1;32m    492\u001B[0m         \u001B[0;31m# inherits the docstring from interfaces.Dialect.connect\u001B[0m\u001B[0;34m\u001B[0m\u001B[0;34m\u001B[0m\u001B[0;34m\u001B[0m\u001B[0m\n\u001B[0;32m--> 493\u001B[0;31m         \u001B[0;32mreturn\u001B[0m \u001B[0mself\u001B[0m\u001B[0;34m.\u001B[0m\u001B[0mdbapi\u001B[0m\u001B[0;34m.\u001B[0m\u001B[0mconnect\u001B[0m\u001B[0;34m(\u001B[0m\u001B[0;34m*\u001B[0m\u001B[0mcargs\u001B[0m\u001B[0;34m,\u001B[0m \u001B[0;34m**\u001B[0m\u001B[0mcparams\u001B[0m\u001B[0;34m)\u001B[0m\u001B[0;34m\u001B[0m\u001B[0;34m\u001B[0m\u001B[0m\n\u001B[0m\u001B[1;32m    494\u001B[0m \u001B[0;34m\u001B[0m\u001B[0m\n\u001B[1;32m    495\u001B[0m     \u001B[0;32mdef\u001B[0m \u001B[0mcreate_connect_args\u001B[0m\u001B[0;34m(\u001B[0m\u001B[0mself\u001B[0m\u001B[0;34m,\u001B[0m \u001B[0murl\u001B[0m\u001B[0;34m)\u001B[0m\u001B[0;34m:\u001B[0m\u001B[0;34m\u001B[0m\u001B[0;34m\u001B[0m\u001B[0m\n",
      "\u001B[0;31mOperationalError\u001B[0m: (sqlite3.OperationalError) unable to open database file\n(Background on this error at: http://sqlalche.me/e/13/e3q8)"
     ]
    }
   ],
   "source": [
    "from sqlalchemy import create_engine\n",
    "\n",
    "# Create a connection to the database\n",
    "database_connection = create_engine('sqlite:///Users/tthekkum/Documents/LnD/BV/540/data-wrangling-master/code/chp6-db/data_wrangling.db')\n",
    "\n",
    "# Load data\n",
    "dataframe = pd.read_sql_query('SELECT * FROM data_sources', database_connection)\n",
    "\n",
    "# View first two rows\n",
    "dataframe.head(2)"
   ],
   "metadata": {
    "collapsed": false,
    "pycharm": {
     "name": "#%%\n"
    }
   }
  },
  {
   "cell_type": "code",
   "execution_count": null,
   "outputs": [],
   "source": [],
   "metadata": {
    "collapsed": false,
    "pycharm": {
     "name": "#%%\n"
    }
   }
  }
 ],
 "metadata": {
  "kernelspec": {
   "display_name": "Python 3",
   "language": "python",
   "name": "python3"
  },
  "language_info": {
   "codemirror_mode": {
    "name": "ipython",
    "version": 2
   },
   "file_extension": ".py",
   "mimetype": "text/x-python",
   "name": "python",
   "nbconvert_exporter": "python",
   "pygments_lexer": "ipython2",
   "version": "2.7.6"
  }
 },
 "nbformat": 4,
 "nbformat_minor": 0
}